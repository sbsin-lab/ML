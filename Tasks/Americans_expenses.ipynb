{
 "cells": [
  {
   "cell_type": "code",
   "execution_count": 1,
   "metadata": {},
   "outputs": [],
   "source": [
    "import pandas as pd"
   ]
  },
  {
   "cell_type": "code",
   "execution_count": 2,
   "metadata": {},
   "outputs": [
    {
     "data": {
      "text/html": [
       "<div>\n",
       "<style scoped>\n",
       "    .dataframe tbody tr th:only-of-type {\n",
       "        vertical-align: middle;\n",
       "    }\n",
       "\n",
       "    .dataframe tbody tr th {\n",
       "        vertical-align: top;\n",
       "    }\n",
       "\n",
       "    .dataframe thead th {\n",
       "        text-align: right;\n",
       "    }\n",
       "</style>\n",
       "<table border=\"1\" class=\"dataframe\">\n",
       "  <thead>\n",
       "    <tr style=\"text-align: right;\">\n",
       "      <th></th>\n",
       "      <th>Series_reference</th>\n",
       "      <th>Period</th>\n",
       "      <th>Data_value</th>\n",
       "      <th>Suppressed</th>\n",
       "      <th>STATUS</th>\n",
       "      <th>UNITS</th>\n",
       "      <th>Magnitude</th>\n",
       "      <th>Subject</th>\n",
       "      <th>Group</th>\n",
       "      <th>Series_title_1</th>\n",
       "      <th>Series_title_2</th>\n",
       "      <th>Series_title_3</th>\n",
       "      <th>Series_title_4</th>\n",
       "      <th>Series_title_5</th>\n",
       "    </tr>\n",
       "  </thead>\n",
       "  <tbody>\n",
       "    <tr>\n",
       "      <th>0</th>\n",
       "      <td>ECTM.S1AG1210</td>\n",
       "      <td>2007.01</td>\n",
       "      <td>887.3</td>\n",
       "      <td>NaN</td>\n",
       "      <td>F</td>\n",
       "      <td>Dollars</td>\n",
       "      <td>6.0</td>\n",
       "      <td>Electronic Card Transactions (ANZSIC06) - ECT</td>\n",
       "      <td>Private - Values - Electronic card transaction...</td>\n",
       "      <td>Actual</td>\n",
       "      <td>Supermarket and grocery stores</td>\n",
       "      <td>NaN</td>\n",
       "      <td>NaN</td>\n",
       "      <td>NaN</td>\n",
       "    </tr>\n",
       "    <tr>\n",
       "      <th>1</th>\n",
       "      <td>ECTM.S1AG1210</td>\n",
       "      <td>2007.02</td>\n",
       "      <td>843.9</td>\n",
       "      <td>NaN</td>\n",
       "      <td>F</td>\n",
       "      <td>Dollars</td>\n",
       "      <td>6.0</td>\n",
       "      <td>Electronic Card Transactions (ANZSIC06) - ECT</td>\n",
       "      <td>Private - Values - Electronic card transaction...</td>\n",
       "      <td>Actual</td>\n",
       "      <td>Supermarket and grocery stores</td>\n",
       "      <td>NaN</td>\n",
       "      <td>NaN</td>\n",
       "      <td>NaN</td>\n",
       "    </tr>\n",
       "    <tr>\n",
       "      <th>2</th>\n",
       "      <td>ECTM.S1AG1210</td>\n",
       "      <td>2007.03</td>\n",
       "      <td>925.1</td>\n",
       "      <td>NaN</td>\n",
       "      <td>F</td>\n",
       "      <td>Dollars</td>\n",
       "      <td>6.0</td>\n",
       "      <td>Electronic Card Transactions (ANZSIC06) - ECT</td>\n",
       "      <td>Private - Values - Electronic card transaction...</td>\n",
       "      <td>Actual</td>\n",
       "      <td>Supermarket and grocery stores</td>\n",
       "      <td>NaN</td>\n",
       "      <td>NaN</td>\n",
       "      <td>NaN</td>\n",
       "    </tr>\n",
       "    <tr>\n",
       "      <th>3</th>\n",
       "      <td>ECTM.S1AG1210</td>\n",
       "      <td>2007.04</td>\n",
       "      <td>880.0</td>\n",
       "      <td>NaN</td>\n",
       "      <td>F</td>\n",
       "      <td>Dollars</td>\n",
       "      <td>6.0</td>\n",
       "      <td>Electronic Card Transactions (ANZSIC06) - ECT</td>\n",
       "      <td>Private - Values - Electronic card transaction...</td>\n",
       "      <td>Actual</td>\n",
       "      <td>Supermarket and grocery stores</td>\n",
       "      <td>NaN</td>\n",
       "      <td>NaN</td>\n",
       "      <td>NaN</td>\n",
       "    </tr>\n",
       "    <tr>\n",
       "      <th>4</th>\n",
       "      <td>ECTM.S1AG1210</td>\n",
       "      <td>2007.05</td>\n",
       "      <td>905.1</td>\n",
       "      <td>NaN</td>\n",
       "      <td>F</td>\n",
       "      <td>Dollars</td>\n",
       "      <td>6.0</td>\n",
       "      <td>Electronic Card Transactions (ANZSIC06) - ECT</td>\n",
       "      <td>Private - Values - Electronic card transaction...</td>\n",
       "      <td>Actual</td>\n",
       "      <td>Supermarket and grocery stores</td>\n",
       "      <td>NaN</td>\n",
       "      <td>NaN</td>\n",
       "      <td>NaN</td>\n",
       "    </tr>\n",
       "  </tbody>\n",
       "</table>\n",
       "</div>"
      ],
      "text/plain": [
       "  Series_reference   Period  Data_value Suppressed STATUS    UNITS  Magnitude  \\\n",
       "0    ECTM.S1AG1210  2007.01       887.3        NaN      F  Dollars        6.0   \n",
       "1    ECTM.S1AG1210  2007.02       843.9        NaN      F  Dollars        6.0   \n",
       "2    ECTM.S1AG1210  2007.03       925.1        NaN      F  Dollars        6.0   \n",
       "3    ECTM.S1AG1210  2007.04       880.0        NaN      F  Dollars        6.0   \n",
       "4    ECTM.S1AG1210  2007.05       905.1        NaN      F  Dollars        6.0   \n",
       "\n",
       "                                         Subject  \\\n",
       "0  Electronic Card Transactions (ANZSIC06) - ECT   \n",
       "1  Electronic Card Transactions (ANZSIC06) - ECT   \n",
       "2  Electronic Card Transactions (ANZSIC06) - ECT   \n",
       "3  Electronic Card Transactions (ANZSIC06) - ECT   \n",
       "4  Electronic Card Transactions (ANZSIC06) - ECT   \n",
       "\n",
       "                                               Group Series_title_1  \\\n",
       "0  Private - Values - Electronic card transaction...         Actual   \n",
       "1  Private - Values - Electronic card transaction...         Actual   \n",
       "2  Private - Values - Electronic card transaction...         Actual   \n",
       "3  Private - Values - Electronic card transaction...         Actual   \n",
       "4  Private - Values - Electronic card transaction...         Actual   \n",
       "\n",
       "                   Series_title_2  Series_title_3  Series_title_4  \\\n",
       "0  Supermarket and grocery stores             NaN             NaN   \n",
       "1  Supermarket and grocery stores             NaN             NaN   \n",
       "2  Supermarket and grocery stores             NaN             NaN   \n",
       "3  Supermarket and grocery stores             NaN             NaN   \n",
       "4  Supermarket and grocery stores             NaN             NaN   \n",
       "\n",
       "   Series_title_5  \n",
       "0             NaN  \n",
       "1             NaN  \n",
       "2             NaN  \n",
       "3             NaN  \n",
       "4             NaN  "
      ]
     },
     "execution_count": 2,
     "metadata": {},
     "output_type": "execute_result"
    }
   ],
   "source": [
    "df = pd.read_csv('data/2.csv', sep=',')\n",
    "df.head()"
   ]
  },
  {
   "cell_type": "code",
   "execution_count": 3,
   "metadata": {},
   "outputs": [
    {
     "data": {
      "text/plain": [
       "array(['Electronic Card Transactions (ANZSIC06) - ECT', nan], dtype=object)"
      ]
     },
     "execution_count": 3,
     "metadata": {},
     "output_type": "execute_result"
    }
   ],
   "source": [
    "#df['Subject'].value_counts()\n",
    "df['Subject'].unique()"
   ]
  },
  {
   "cell_type": "code",
   "execution_count": 4,
   "metadata": {
    "scrolled": true
   },
   "outputs": [
    {
     "name": "stdout",
     "output_type": "stream",
     "text": [
      "array(['Supermarket and grocery stores', 'Specialised food', 'Liquor',\n",
      "       nan, 'Recreational goods', 'Department stores',\n",
      "       'Pharmaceutical and other store-based retailing', 'Accommodation',\n",
      "       'Food and beverage services',\n",
      "       'Postal and Courier Pick Up and Delivery Services',\n",
      "       'Travel Agency & Tour Arrangement Services',\n",
      "       'Medical and Other Health Care Services'], dtype=object)\n"
     ]
    }
   ],
   "source": [
    "df['Series_title_2'].unique()"
   ]
  },
  {
   "cell_type": "code",
   "execution_count": 5,
   "metadata": {},
   "outputs": [
    {
     "data": {
      "text/plain": [
       "count    4762.000000\n",
       "mean      458.333368\n",
       "std       686.787158\n",
       "min        -1.400000\n",
       "25%       132.625000\n",
       "50%       212.600000\n",
       "75%       457.425000\n",
       "max      5922.900000\n",
       "Name: Data_value, dtype: float64"
      ]
     },
     "execution_count": 5,
     "metadata": {},
     "output_type": "execute_result"
    }
   ],
   "source": [
    "df['Data_value'].describe()"
   ]
  },
  {
   "cell_type": "code",
   "execution_count": 15,
   "metadata": {},
   "outputs": [
    {
     "data": {
      "text/plain": [
       "<AxesSubplot:xlabel='Series_title_2'>"
      ]
     },
     "execution_count": 15,
     "metadata": {},
     "output_type": "execute_result"
    },
    {
     "data": {
      "image/png": "[encoded data removed]",
      "text/plain": [
       "<Figure size 432x288 with 1 Axes>"
      ]
     },
     "metadata": {
      "needs_background": "light"
     },
     "output_type": "display_data"
    }
   ],
   "source": [
    "df1 = df.groupby(['Series_title_2']).sum()['Data_value']\n",
    "df1.plot.bar()"
   ]
  },
  {
   "cell_type": "code",
   "execution_count": 14,
   "metadata": {},
   "outputs": [
    {
     "name": "stdout",
     "output_type": "stream",
     "text": [
      "866579.4000000001 70108.50000000001\n"
     ]
    }
   ],
   "source": [
    "#4 задание\n",
    "print(df1.max(), df1.min())"
   ]
  },
  {
   "cell_type": "code",
   "execution_count": null,
   "metadata": {},
   "outputs": [],
   "source": []
  }
 ],
 "metadata": {
  "kernelspec": {
   "display_name": "Python 3",
   "language": "python",
   "name": "python3"
  },
  "language_info": {
   "codemirror_mode": {
    "name": "ipython",
    "version": 3
   },
   "file_extension": ".py",
   "mimetype": "text/x-python",
   "name": "python",
   "nbconvert_exporter": "python",
   "pygments_lexer": "ipython3",
   "version": "3.8.5"
  }
 },
 "nbformat": 4,
 "nbformat_minor": 4
}
